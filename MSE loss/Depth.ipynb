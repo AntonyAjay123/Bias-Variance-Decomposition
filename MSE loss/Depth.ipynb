{
 "cells": [
  {
   "cell_type": "code",
   "execution_count": 29,
   "id": "03940131-338e-4f88-bdaa-43590d4441eb",
   "metadata": {},
   "outputs": [],
   "source": [
    "import numpy as np\n",
    "import matplotlib.pyplot as plt\n",
    "from sklearn.model_selection import train_test_split\n",
    "from sklearn.preprocessing import StandardScaler"
   ]
  },
  {
   "cell_type": "code",
   "execution_count": 30,
   "id": "b1d7ed96-0087-441c-9f2f-a51bbeec5b5f",
   "metadata": {},
   "outputs": [],
   "source": [
    "import torch\n",
    "import torch.nn as nn\n",
    "import torch.nn.functional as F\n",
    "from torch.utils.data import DataLoader,TensorDataset\n",
    "import torch.optim as optim\n",
    "from dataclasses import dataclass\n",
    "from typing import List, Tuple, Dict"
   ]
  },
  {
   "cell_type": "code",
   "execution_count": 31,
   "id": "b0740967-b782-47a3-89da-c752924e4f2b",
   "metadata": {},
   "outputs": [],
   "source": [
    "from biasvariance_toolkit import estimate_bias_variance_mse"
   ]
  },
  {
   "cell_type": "code",
   "execution_count": 32,
   "id": "aa3e2918-d078-4e4a-9c4b-7f0217856873",
   "metadata": {},
   "outputs": [
    {
     "name": "stdout",
     "output_type": "stream",
     "text": [
      "E:\\conda_packages\\dis_env\\python.exe\n"
     ]
    }
   ],
   "source": [
    "import sys\n",
    "print(sys.executable)"
   ]
  },
  {
   "cell_type": "code",
   "execution_count": 33,
   "id": "fe868b54-2449-4cb0-a4ab-f734d6ec7abf",
   "metadata": {},
   "outputs": [],
   "source": [
    "def generate_sinusoid_data(num_samples:int,noise_scale:float=0.3):\n",
    "    X = np.linspace(-1,1,num_samples).reshape(-1, 1)\n",
    "    y_true = np.sin(2 * np.pi * X)                       # shape: (num_samples, 1)\n",
    "    noise = np.random.normal(0, noise_scale, size=(num_samples, 1))#random gaussian noise\n",
    "    y = y_true + noise\n",
    "    return X,y"
   ]
  },
  {
   "cell_type": "code",
   "execution_count": 34,
   "id": "870d1e64-af2e-4d88-887c-8c556568eb12",
   "metadata": {},
   "outputs": [],
   "source": [
    "class MLP(nn.Module):\n",
    "    def __init__(self,input_dim,width,depth,act=nn.ReLU,batchnorm=False,residual=False,dropout_p=0.0,out_dim=1):\n",
    "        super().__init__()\n",
    "        self.depth = depth\n",
    "        self.residual = residual\n",
    "        self.batchnorm=batchnorm\n",
    "        layers = []\n",
    "        last = input_dim\n",
    "        for d in range(depth):\n",
    "            layers.append(nn.Linear(last,width))\n",
    "            if batchnorm:\n",
    "                layers.append(nn.BatchNorm1d(width))\n",
    "            layers.append(act())\n",
    "            if dropout_p>0:\n",
    "                layers.append(nn.Dropout(dropout_p))\n",
    "            last = width\n",
    "        self.feature = nn.Sequential(*layers) if layers else nn.Identity()\n",
    "        self.proj = nn.Linear(last, out_dim)\n",
    "\n",
    "        # If using residuals with depth>0, define a projection for skip when dims mismatch\n",
    "        if residual and depth > 0:\n",
    "            self.skip_in = nn.Linear(input_dim, width) if input_dim != width else nn.Identity()\n",
    "\n",
    "    def forward(self, x):\n",
    "        # x: (N,1)\n",
    "        if self.depth == 0:\n",
    "            return self.proj(x)\n",
    "\n",
    "        h = x\n",
    "        if self.residual:\n",
    "            # first block with skip from input\n",
    "            h1 = self.feature[0](h)  # first Linear\n",
    "            i = 1\n",
    "            if self.batchnorm:\n",
    "                h1 = self.feature[i](h1); i += 1\n",
    "            h1 = self.feature[i](h1); i += 1  # activation\n",
    "            if isinstance(self.feature[i] if i < len(self.feature) else None, nn.Dropout):\n",
    "                h1 = self.feature[i](h1); i += 1\n",
    "\n",
    "            # after first block, we have width dims\n",
    "            h = h1 + self.skip_in(x)  # residual add\n",
    "\n",
    "            # process remaining blocks (groups of Linear-(BN)-Act-OptionalDropout)\n",
    "            while i < len(self.feature):\n",
    "                lin = self.feature[i]; i += 1\n",
    "                h_new = lin(h)\n",
    "                if self.batchnorm:\n",
    "                    h_new = self.feature[i](h_new); i += 1\n",
    "                h_new = self.feature[i](h_new); i += 1\n",
    "                if i < len(self.feature) and isinstance(self.feature[i], nn.Dropout):\n",
    "                    h_new = self.feature[i](h_new); i += 1\n",
    "                h = h + h_new  # residual within width\n",
    "        else:\n",
    "            h = self.feature(h)\n",
    "\n",
    "        out = self.proj(h)\n",
    "        return out"
   ]
  },
  {
   "cell_type": "code",
   "execution_count": 35,
   "id": "3dbac60a-71e8-47c2-a0a7-e2bfd2533749",
   "metadata": {},
   "outputs": [],
   "source": [
    "@dataclass\n",
    "class TrainConfig:\n",
    "    batch_size: int = 128\n",
    "    epochs: int = 300\n",
    "    lr: float = 3e-3\n",
    "    weight_decay: float = 1e-3\n",
    "    grad_clip: float = 1.0\n",
    "    early_stop_patience: int = 30\n",
    "    device: str = \"cpu\"\n",
    "    seed: int = 42"
   ]
  },
  {
   "cell_type": "code",
   "execution_count": 36,
   "id": "c51a5736-1ec6-44bb-a2b3-7f73d101e164",
   "metadata": {},
   "outputs": [],
   "source": [
    "NUM_TRAIN_SAMPLES = 5000\n",
    "NUM_TEST_SAMPLES = 1000\n",
    "BOOTSTRAP_NUMS = 30\n",
    "MAX_EPOCHS = 500\n",
    "PATIENCE = 500\n",
    "LEARNING_RATE=0.001"
   ]
  },
  {
   "cell_type": "code",
   "execution_count": 37,
   "id": "c5b9274b-b59f-4abf-b102-01c34d237aed",
   "metadata": {},
   "outputs": [],
   "source": [
    "depths = [1, 4, 8, 16, 24, 32,40]"
   ]
  },
  {
   "cell_type": "code",
   "execution_count": 38,
   "id": "4790d4c3-5a24-4f3c-9e8e-7511d292cc7e",
   "metadata": {},
   "outputs": [],
   "source": [
    "X_train,y_train = generate_sinusoid_data(num_samples=NUM_TRAIN_SAMPLES)\n",
    "X_test,y_test = generate_sinusoid_data(num_samples=NUM_TEST_SAMPLES,noise_scale=0)"
   ]
  },
  {
   "cell_type": "code",
   "execution_count": null,
   "id": "4d6a79ae-b2ee-4aa2-a817-6d4b1ef38db7",
   "metadata": {},
   "outputs": [
    {
     "name": "stdout",
     "output_type": "stream",
     "text": [
      "\n",
      "*** Running experiment for network with 1 depth***\n",
      "\n",
      "--- Training Model 1/30 ---\n",
      "\n",
      "--- Training Model 2/30 ---\n",
      "\n",
      "--- Training Model 3/30 ---\n",
      "\n",
      "--- Training Model 4/30 ---\n",
      "\n",
      "--- Training Model 5/30 ---\n",
      "\n",
      "--- Training Model 6/30 ---\n"
     ]
    }
   ],
   "source": [
    "hidden_units=256\n",
    "depth_results= []\n",
    "for d in depths:\n",
    "    print(f\"\\n*** Running experiment for network with {d} depth***\")\n",
    "    bias_sq, variance, total_error,error_sum,avg_train_loss,test_loss = estimate_bias_variance_mse(\n",
    "            model_class=MLP,\n",
    "            X_train=X_train,\n",
    "            y_train=y_train,\n",
    "            X_test=X_test,\n",
    "            y_test=y_test,\n",
    "            loss_fn=nn.MSELoss(),\n",
    "            model_kwargs={'input_dim':X_train.shape[1],\"width\":128,'depth':d,'residual':True},\n",
    "            num_models=30,\n",
    "            max_epochs=MAX_EPOCHS,\n",
    "            patience=PATIENCE,\n",
    "            lr=LEARNING_RATE,\n",
    "            batch_size=128\n",
    "        )\n",
    "    depth_results.append({\n",
    "            'depth': d,\n",
    "            'bias_sq': bias_sq,\n",
    "            'variance': variance,\n",
    "            'total_error': total_error,\n",
    "            'error_sum': error_sum,\n",
    "            'avg_train_loss':avg_train_loss,\n",
    "            'test_loss':test_loss\n",
    "        })\n"
   ]
  },
  {
   "cell_type": "code",
   "execution_count": null,
   "id": "84b2d88c-e774-409d-bd24-73a3b7a1d787",
   "metadata": {},
   "outputs": [],
   "source": [
    "# bias_values = [res['bias_sq'] for res in depth_results]\n",
    "# variance_values = [res['variance'] for res in depth_results]\n",
    "# error_values = [res['total_error'] for res in depth_results]\n",
    "# bias_plus_variance = [res['error_sum'] for res in depth_results]\n",
    "    \n",
    "# plt.figure(figsize=(10, 6))\n",
    "# plt.plot(depths, bias_values, marker='o', label='Bias')\n",
    "# plt.plot(depths, variance_values, marker='s', label='Variance')\n",
    "# plt.plot(depths, error_values, marker='p', label='total error')\n",
    "# plt.plot(depths, bias_plus_variance, marker='p', label='bias + variance')\n",
    "\n",
    "    \n",
    "# plt.xscale('log')\n",
    "plt.xlabel('Depth of network')\n",
    "plt.ylabel('Error')\n",
    "plt.title('Bias and Variance Trends for Sinusoid Regression with batchnorm and residuals')\n",
    "# plt.legend()\n",
    "plt.grid(True)\n",
    "plt.tight_layout()"
   ]
  },
  {
   "cell_type": "code",
   "execution_count": 54,
   "id": "33f60578-1edf-4633-8fe6-04bebd583de8",
   "metadata": {},
   "outputs": [
    {
     "data": {
      "image/png": "[encoded data removed]",
      "text/plain": [
       "<Figure size 1000x600 with 1 Axes>"
      ]
     },
     "metadata": {},
     "output_type": "display_data"
    }
   ],
   "source": [
    "test_loss = [r['total_error'] for r in depth_results]\n",
    "avg_train_loss = [r['avg_train_loss'] for r in depth_results]\n",
    "\n",
    "plt.figure(figsize=(10, 6))\n",
    "plt.plot(depths, avg_train_loss, marker='o', label='Avg Train Loss')\n",
    "plt.plot(depths, test_loss, marker='o', label='Total Error')\n",
    "plt.xscale('log')  # Log scale for hidden units\n",
    "plt.xlabel('depth of network')\n",
    "plt.ylabel('Error')\n",
    "plt.title('Avg Train Loss and Total Error vs depth')\n",
    "plt.legend()\n",
    "plt.grid(True)\n",
    "plt.show()\n"
   ]
  },
  {
   "cell_type": "code",
   "execution_count": null,
   "id": "f5b10179-5630-4baa-9598-bb8e5d468a59",
   "metadata": {},
   "outputs": [],
   "source": []
  }
 ],
 "metadata": {
  "kernelspec": {
   "display_name": "Python 3 (ipykernel)",
   "language": "python",
   "name": "python3"
  },
  "language_info": {
   "codemirror_mode": {
    "name": "ipython",
    "version": 3
   },
   "file_extension": ".py",
   "mimetype": "text/x-python",
   "name": "python",
   "nbconvert_exporter": "python",
   "pygments_lexer": "ipython3",
   "version": "3.10.18"
  }
 },
 "nbformat": 4,
 "nbformat_minor": 5
}
